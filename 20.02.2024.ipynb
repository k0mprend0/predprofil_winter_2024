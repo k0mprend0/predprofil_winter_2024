{
 "cells": [
  {
   "cell_type": "code",
   "execution_count": 35,
   "id": "00aaa245",
   "metadata": {},
   "outputs": [
    {
     "name": "stdout",
     "output_type": "stream",
     "text": [
      "<class 'numpy.ndarray'>\n",
      "(1000, 1000, 3)\n"
     ]
    },
    {
     "data": {
      "text/plain": [
       "-1"
      ]
     },
     "execution_count": 35,
     "metadata": {},
     "output_type": "execute_result"
    }
   ],
   "source": [
    "# фотка\n",
    "import cv2\n",
    "\n",
    "img = cv2.imread('1.jpg') #скачать изображение  \n",
    "\n",
    "shape = img.shape #размер изображения(высота, ширина, цветность)\n",
    "print(type(img))\n",
    "\n",
    "a = round(min(shape[0],shape[1])*0.52)\n",
    "height, weight = shape[0],shape[1]\n",
    "\n",
    "img[(height // 2 - a // 2):(height // 2 + a // 2), (weight // 2 - a // 2 ):(weight // 2 + a // 2)] = [170,0,255] #строки, столбцы\n",
    "cv2.imshow('img', img) # показать изображение\n",
    "print(shape)\n",
    "#print(img)\n",
    "cv2.waitKey(0) # ожидать нажатие клавиши Хмс"
   ]
  },
  {
   "cell_type": "code",
   "execution_count": 34,
   "id": "ef13ffe7",
   "metadata": {},
   "outputs": [],
   "source": [
    "cv2.destroyAllWindows() #краш всех окон "
   ]
  },
  {
   "cell_type": "code",
   "execution_count": 5,
   "id": "f646a588",
   "metadata": {},
   "outputs": [],
   "source": [
    "# камера \n",
    "import cv2\n",
    "\n",
    "capture = cv2.VideoCapture(0) #захватить видео с нулевой ( встроенной камеры )\n",
    "\n",
    "while True: \n",
    "    ret, frame = capture.read() # флаг успешности захвата и кадр(frame) \n",
    "    #print(frame.shape)\n",
    "    cv2.imshow('img',frame)\n",
    "    h, w, _ = frame.shape\n",
    "    for i_str in range(h):\n",
    "        frame[i_str] = frame[i_str][::-1]\n",
    "        \n",
    "    cv2.imshow('img_mirror',frame) \n",
    "    key = cv2.waitKey(1) # ждать 1 мс нажатие клавиши \n",
    "    \n",
    "    if key == ord(' '): # если клавиша == пробелу\n",
    "        break\n",
    "\n",
    "capture.release() # освободить камеру \n",
    "cv2.destroyAllWindows() # удалить все окна cv2 "
   ]
  },
  {
   "cell_type": "code",
   "execution_count": null,
   "id": "8d22a80a",
   "metadata": {},
   "outputs": [],
   "source": []
  }
 ],
 "metadata": {
  "kernelspec": {
   "display_name": "Python 3 (ipykernel)",
   "language": "python",
   "name": "python3"
  },
  "language_info": {
   "codemirror_mode": {
    "name": "ipython",
    "version": 3
   },
   "file_extension": ".py",
   "mimetype": "text/x-python",
   "name": "python",
   "nbconvert_exporter": "python",
   "pygments_lexer": "ipython3",
   "version": "3.11.5"
  }
 },
 "nbformat": 4,
 "nbformat_minor": 5
}
